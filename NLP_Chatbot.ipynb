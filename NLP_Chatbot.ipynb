{
  "nbformat": 4,
  "nbformat_minor": 0,
  "metadata": {
    "colab": {
      "provenance": [],
      "authorship_tag": "ABX9TyOkdwk6sUishkdkNT6qrPaO",
      "include_colab_link": true
    },
    "kernelspec": {
      "name": "python3",
      "display_name": "Python 3"
    },
    "language_info": {
      "name": "python"
    }
  },
  "cells": [
    {
      "cell_type": "markdown",
      "metadata": {
        "id": "view-in-github",
        "colab_type": "text"
      },
      "source": [
        "<a href=\"https://colab.research.google.com/github/mukund2124/Natural-Language-Processing-and-Synthesis---THP/blob/main/NLP_Chatbot.ipynb\" target=\"_parent\"><img src=\"https://colab.research.google.com/assets/colab-badge.svg\" alt=\"Open In Colab\"/></a>"
      ]
    },
    {
      "cell_type": "code",
      "execution_count": null,
      "metadata": {
        "colab": {
          "base_uri": "https://localhost:8080/"
        },
        "collapsed": true,
        "id": "evtVQm4ZLBIV",
        "outputId": "ce5745ca-97e5-44dd-9c93-687951936f1a"
      },
      "outputs": [
        {
          "output_type": "stream",
          "name": "stdout",
          "text": [
            "Requirement already satisfied: transformers in /usr/local/lib/python3.10/dist-packages (4.44.2)\n",
            "Requirement already satisfied: filelock in /usr/local/lib/python3.10/dist-packages (from transformers) (3.16.1)\n",
            "Requirement already satisfied: huggingface-hub<1.0,>=0.23.2 in /usr/local/lib/python3.10/dist-packages (from transformers) (0.24.7)\n",
            "Requirement already satisfied: numpy>=1.17 in /usr/local/lib/python3.10/dist-packages (from transformers) (1.26.4)\n",
            "Requirement already satisfied: packaging>=20.0 in /usr/local/lib/python3.10/dist-packages (from transformers) (24.1)\n",
            "Requirement already satisfied: pyyaml>=5.1 in /usr/local/lib/python3.10/dist-packages (from transformers) (6.0.2)\n",
            "Requirement already satisfied: regex!=2019.12.17 in /usr/local/lib/python3.10/dist-packages (from transformers) (2024.9.11)\n",
            "Requirement already satisfied: requests in /usr/local/lib/python3.10/dist-packages (from transformers) (2.32.3)\n",
            "Requirement already satisfied: safetensors>=0.4.1 in /usr/local/lib/python3.10/dist-packages (from transformers) (0.4.5)\n",
            "Requirement already satisfied: tokenizers<0.20,>=0.19 in /usr/local/lib/python3.10/dist-packages (from transformers) (0.19.1)\n",
            "Requirement already satisfied: tqdm>=4.27 in /usr/local/lib/python3.10/dist-packages (from transformers) (4.66.5)\n",
            "Requirement already satisfied: fsspec>=2023.5.0 in /usr/local/lib/python3.10/dist-packages (from huggingface-hub<1.0,>=0.23.2->transformers) (2024.6.1)\n",
            "Requirement already satisfied: typing-extensions>=3.7.4.3 in /usr/local/lib/python3.10/dist-packages (from huggingface-hub<1.0,>=0.23.2->transformers) (4.12.2)\n",
            "Requirement already satisfied: charset-normalizer<4,>=2 in /usr/local/lib/python3.10/dist-packages (from requests->transformers) (3.4.0)\n",
            "Requirement already satisfied: idna<4,>=2.5 in /usr/local/lib/python3.10/dist-packages (from requests->transformers) (3.10)\n",
            "Requirement already satisfied: urllib3<3,>=1.21.1 in /usr/local/lib/python3.10/dist-packages (from requests->transformers) (2.2.3)\n",
            "Requirement already satisfied: certifi>=2017.4.17 in /usr/local/lib/python3.10/dist-packages (from requests->transformers) (2024.8.30)\n",
            "Requirement already satisfied: torch in /usr/local/lib/python3.10/dist-packages (2.4.1+cu121)\n",
            "Requirement already satisfied: filelock in /usr/local/lib/python3.10/dist-packages (from torch) (3.16.1)\n",
            "Requirement already satisfied: typing-extensions>=4.8.0 in /usr/local/lib/python3.10/dist-packages (from torch) (4.12.2)\n",
            "Requirement already satisfied: sympy in /usr/local/lib/python3.10/dist-packages (from torch) (1.13.3)\n",
            "Requirement already satisfied: networkx in /usr/local/lib/python3.10/dist-packages (from torch) (3.4.1)\n",
            "Requirement already satisfied: jinja2 in /usr/local/lib/python3.10/dist-packages (from torch) (3.1.4)\n",
            "Requirement already satisfied: fsspec in /usr/local/lib/python3.10/dist-packages (from torch) (2024.6.1)\n",
            "Requirement already satisfied: MarkupSafe>=2.0 in /usr/local/lib/python3.10/dist-packages (from jinja2->torch) (3.0.1)\n",
            "Requirement already satisfied: mpmath<1.4,>=1.1.0 in /usr/local/lib/python3.10/dist-packages (from sympy->torch) (1.3.0)\n"
          ]
        }
      ],
      "source": [
        "!pip install transformers\n",
        "!pip install torch"
      ]
    },
    {
      "cell_type": "code",
      "source": [
        "# Read the project data\n",
        "with open('/content/The Humanoid Project.txt', 'r') as file:\n",
        "    project_info = file.read()\n",
        "\n",
        "# Display the contents (optional)\n",
        "print(project_info)\n"
      ],
      "metadata": {
        "colab": {
          "base_uri": "https://localhost:8080/"
        },
        "id": "R1v1llanLClR",
        "outputId": "ca88003a-52ab-4e3e-a38a-0e47b04ac706"
      },
      "execution_count": null,
      "outputs": [
        {
          "output_type": "stream",
          "name": "stdout",
          "text": [
            "The Humanoid Project\n",
            "Humanoid Robot Technical Team\n",
            "\n",
            "\n",
            "The Humanoid Project is a project undertaken by students of IITB,\n",
            "aiming to develop a social humanoid bot to help people with their\n",
            "daily tasks and ease their lives.\n",
            "\n",
            "The \"human-like\" aspect gives it a friendly and approachable\n",
            "appearance, making it easier for users to interact with it. This is\n",
            "an exciting area of scientific research and is used to study human\n",
            "behavior through interaction with people and to mimic human\n",
            "tasks and are developed by top robotic manufacturing companies\n",
            "for various purposes.\n",
            "\n",
            "The team wishes to proceed further and achieve the physical\n",
            "hardware realization and perform on field testing of the various\n",
            "software algorithms developed at the earliest.\n",
            "\n",
            "With this aim to serve society, the team strives to join the league of\n",
            "IITs developing an optimized and ready to deploy social humanoid\n",
            "robot and participate in robotics and humanoid competitions around the world.\n",
            "\n",
            "Few members include:\n",
            "\n",
            "Ayushman Choudhary\n",
            "and\n",
            "Rana Das\n",
            "and\n",
            "Rohan Kalbag.\n",
            "\n",
            "\n",
            "Team Leads:\n",
            "Hanish - 80800 54456        \n",
            "\n",
            "\n",
            "Siddhesh -  77699 75335\n",
            "    \n",
            "\n",
            "Rana (AI engineer) - 96366 80723\n",
            "\n",
            "\n",
            "Sahil (Controls engineer) - 79841 49706\n",
            "\n",
            "\n",
            "Harish (Electronics And AI engineer) - 89035 02608\n",
            "\n",
            "\n",
            "Rupayan (Robotic Design engineer) - 84200 05543\n",
            "\n",
            "\n",
            "Anuj Yadav (Business And Web engineer) - 87706 78570\n",
            "\n",
            "\n",
            "\n",
            "\n",
            "The Humanoid Project Overview\n",
            "Vision\n",
            "Goal: Forge an exemplary robotics team that fosters student-led research, paper publication, and collaborative learning.\n",
            "Future Vision: Envisioning humanoids walking around in the institute's lecture halls, library, and beyond.\n",
            "Missions\n",
            "Mission One: A student-led robotics team aiming to create humanoids for real-world applications.\n",
            "Mission Two: Engage in various technological domains including:\n",
            "Machine Learning Models\n",
            "Object Detection (Computer Vision)\n",
            "Natural Language Processing (NLP)\n",
            "Large Language Models (LLMs)\n",
            "Core Components of the Humanoid\n",
            "Electronics Subsystem\n",
            "Nervous System of the Humanoid\n",
            "Hardware Level Work:\n",
            "Wiring, soldering, and configuring hardware interfaces.\n",
            "Designing Printed Circuit Boards (PCBs) using KiCad and Eagle.\n",
            "Integrating sensors and microcontrollers using ROS (Robot Operating System).\n",
            "Selection of Components:\n",
            "Filtering and selecting drivers, motors, and batteries based on project needs.\n",
            "Utilizing stereo cameras and LiDARs for depth perception, obstacle detection, and environment mapping.\n",
            "Edge Computing:\n",
            "Leveraging Jetson Nano for AI workloads.\n",
            "Controls Subsystem\n",
            "Heart of the Humanoid\n",
            "Software Tools and Frameworks:\n",
            "ROS2, Gazebo, RViz, DARwin-OP.\n",
            "Control Techniques:\n",
            "PID Control, Model Predictive Control (MPC), Adaptive Control.\n",
            "Localization & Navigation:\n",
            "SLAM (Simultaneous Localization and Mapping), A*, Dijkstra’s Path Planning.\n",
            "Obstacle Avoidance and real-world testing.\n",
            "Robotic Design Subsystem\n",
            "Skeleton of the Humanoid\n",
            "Structural Analysis:\n",
            "CAD modeling for manufacturing and structural optimization.\n",
            "Assembly Processes.\n",
            "Artificial Intelligence Subsystem\n",
            "Brain of the Humanoid\n",
            "Key Functions:\n",
            "Object detection and segmentation using YOLO and OpenCV.\n",
            "Model optimization with NVIDIA TensorRT (Compression, Quantization).\n",
            "Dynamic path planning and stereo depth analysis using Vision Transformers.\n",
            "Multimodal transformers for merging visual-audio data for richer interaction.\n",
            "Chatbots Development:\n",
            "Utilizing NLP frameworks such as RASA, RAGS, LLMs (OpenAI, Gemini).\n",
            "Tech Stack\n",
            "Frameworks: OpenCV, YOLO, TensorFlow, PyTorch.\n",
            "Optimization Tools: NVIDIA TensorRT.\n",
            "Deployment Platforms: Docker; NVIDIA Jetson; ROS; CUDA.\n",
            "Future Technologies: Multimodal Transformers for enhanced robustness.\n",
            "Business Subsystem\n",
            "ATP (Administrative/Technical/Promotional) of the Humanoid\n",
            "Marketing & Sponsorships: Develop strategies to secure funding for team activities.\n",
            "Media & PR: Handle outreach to increase visibility.\n",
            "Social Media Management: Promote team objectives through various platforms.\n",
            "Website Management: Create and maintain the team's website to reflect ongoing projects and achievements.\n",
            "Conclusion\n",
            "Stay tuned for further updates. Follow us on social media platforms like Instagram and LinkedIn.\n",
            "Join our WhatsApp group for recruitment opportunities in 2024.\n",
            "This structured format captures all key points from the PDF while maintaining clarity and detail. If you need further elaboration on any specific section or additional information, feel free to ask!\n"
          ]
        }
      ]
    },
    {
      "cell_type": "code",
      "source": [
        "from transformers import pipeline\n",
        "\n",
        "# Initialize a question-answering pipeline using a pretrained model\n",
        "qa_pipeline = pipeline(\"question-answering\")\n",
        "\n",
        "# Function to answer questions based on project information\n",
        "def answer_question(question):\n",
        "    result = qa_pipeline(question=question, context=project_info)\n",
        "    return result['answer']\n",
        "\n",
        "# Example usage\n",
        "question = \"What are the objectives of the humanoid project?\"\n",
        "answer = answer_question(question)\n",
        "print(f\"Q: {question}\\nA: {answer}\")\n"
      ],
      "metadata": {
        "colab": {
          "base_uri": "https://localhost:8080/"
        },
        "id": "v2UtqlAhSJA_",
        "outputId": "22be06c8-c150-4121-e84b-192d48c0e989"
      },
      "execution_count": null,
      "outputs": [
        {
          "output_type": "stream",
          "name": "stderr",
          "text": [
            "No model was supplied, defaulted to distilbert/distilbert-base-cased-distilled-squad and revision 626af31 (https://huggingface.co/distilbert/distilbert-base-cased-distilled-squad).\n",
            "Using a pipeline without specifying a model name and revision in production is not recommended.\n"
          ]
        },
        {
          "output_type": "stream",
          "name": "stdout",
          "text": [
            "Q: What are the objectives of the humanoid project?\n",
            "A: fosters student-led research, paper publication, and collaborative learning\n"
          ]
        }
      ]
    },
    {
      "cell_type": "code",
      "source": [
        "def chatbot():\n",
        "    print(\"Welcome to the IIT Bombay Humanoid Project Chatbot!\")\n",
        "    print(\"Ask me anything about the project. Type 'exit' to quit.\")\n",
        "\n",
        "    while True:\n",
        "        user_input = input(\"You: \")\n",
        "        if user_input.lower() == 'exit':\n",
        "            print(\"Chatbot: Goodbye!\")\n",
        "            break\n",
        "        answer = answer_question(user_input)\n",
        "        print(f\"Chatbot: {answer}\")\n",
        "\n",
        "# Run the chatbot\n",
        "chatbot()\n"
      ],
      "metadata": {
        "colab": {
          "base_uri": "https://localhost:8080/"
        },
        "id": "etwVeUSuSJC-",
        "outputId": "b512c046-182a-4efa-a32c-bbcc2fb6e6bc"
      },
      "execution_count": null,
      "outputs": [
        {
          "output_type": "stream",
          "name": "stdout",
          "text": [
            "Welcome to the IIT Bombay Humanoid Project Chatbot!\n",
            "Ask me anything about the project. Type 'exit' to quit.\n",
            "You: phone number of harish person\n",
            "Chatbot: 87706 78570\n",
            "You: phone number\n",
            "Chatbot: 87706 78570\n",
            "You: who is team lead\n",
            "Chatbot: Hanish\n",
            "You: hanish number\n",
            "Chatbot: 87706 78570\n",
            "You: quit\n",
            "Chatbot: Robotic Design engineer)\n",
            "You: exit\n",
            "Chatbot: Goodbye!\n"
          ]
        }
      ]
    },
    {
      "cell_type": "code",
      "source": [],
      "metadata": {
        "id": "2Za5nNgMSJEz"
      },
      "execution_count": null,
      "outputs": []
    },
    {
      "cell_type": "code",
      "source": [],
      "metadata": {
        "id": "KTPHeOx9SJG4"
      },
      "execution_count": null,
      "outputs": []
    },
    {
      "cell_type": "code",
      "source": [],
      "metadata": {
        "id": "D6Sl8z6hSJKU"
      },
      "execution_count": null,
      "outputs": []
    }
  ]
}